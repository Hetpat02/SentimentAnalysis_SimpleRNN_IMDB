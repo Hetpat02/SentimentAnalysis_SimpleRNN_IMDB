{
 "cells": [
  {
   "cell_type": "code",
   "execution_count": 1,
   "metadata": {},
   "outputs": [],
   "source": [
    "import numpy as np\n",
    "import tensorflow as tf\n",
    "from tensorflow.keras.datasets import imdb\n",
    "from tensorflow.keras.models import load_model\n",
    "from tensorflow.keras.preprocessing import sequence"
   ]
  },
  {
   "cell_type": "code",
   "execution_count": 2,
   "metadata": {},
   "outputs": [],
   "source": [
    "word_index = imdb.get_word_index()\n",
    "reversed_word_index = dict([(value, key) for (key, value) in word_index.items()])"
   ]
  },
  {
   "cell_type": "code",
   "execution_count": 3,
   "metadata": {},
   "outputs": [
    {
     "name": "stderr",
     "output_type": "stream",
     "text": [
      "WARNING:absl:Compiled the loaded model, but the compiled metrics have yet to be built. `model.compile_metrics` will be empty until you train or evaluate the model.\n"
     ]
    },
    {
     "data": {
      "text/html": [
       "<pre style=\"white-space:pre;overflow-x:auto;line-height:normal;font-family:Menlo,'DejaVu Sans Mono',consolas,'Courier New',monospace\"><span style=\"font-weight: bold\">Model: \"sequential\"</span>\n",
       "</pre>\n"
      ],
      "text/plain": [
       "\u001b[1mModel: \"sequential\"\u001b[0m\n"
      ]
     },
     "metadata": {},
     "output_type": "display_data"
    },
    {
     "data": {
      "text/html": [
       "<pre style=\"white-space:pre;overflow-x:auto;line-height:normal;font-family:Menlo,'DejaVu Sans Mono',consolas,'Courier New',monospace\">┏━━━━━━━━━━━━━━━━━━━━━━━━━━━━━━━━━┳━━━━━━━━━━━━━━━━━━━━━━━━┳━━━━━━━━━━━━━━━┓\n",
       "┃<span style=\"font-weight: bold\"> Layer (type)                    </span>┃<span style=\"font-weight: bold\"> Output Shape           </span>┃<span style=\"font-weight: bold\">       Param # </span>┃\n",
       "┡━━━━━━━━━━━━━━━━━━━━━━━━━━━━━━━━━╇━━━━━━━━━━━━━━━━━━━━━━━━╇━━━━━━━━━━━━━━━┩\n",
       "│ embedding (<span style=\"color: #0087ff; text-decoration-color: #0087ff\">Embedding</span>)           │ (<span style=\"color: #00af00; text-decoration-color: #00af00\">32</span>, <span style=\"color: #00af00; text-decoration-color: #00af00\">500</span>, <span style=\"color: #00af00; text-decoration-color: #00af00\">128</span>)         │     <span style=\"color: #00af00; text-decoration-color: #00af00\">1,280,000</span> │\n",
       "├─────────────────────────────────┼────────────────────────┼───────────────┤\n",
       "│ simple_rnn (<span style=\"color: #0087ff; text-decoration-color: #0087ff\">SimpleRNN</span>)          │ (<span style=\"color: #00af00; text-decoration-color: #00af00\">32</span>, <span style=\"color: #00af00; text-decoration-color: #00af00\">128</span>)              │        <span style=\"color: #00af00; text-decoration-color: #00af00\">32,896</span> │\n",
       "├─────────────────────────────────┼────────────────────────┼───────────────┤\n",
       "│ dense (<span style=\"color: #0087ff; text-decoration-color: #0087ff\">Dense</span>)                   │ (<span style=\"color: #00af00; text-decoration-color: #00af00\">32</span>, <span style=\"color: #00af00; text-decoration-color: #00af00\">1</span>)                │           <span style=\"color: #00af00; text-decoration-color: #00af00\">129</span> │\n",
       "└─────────────────────────────────┴────────────────────────┴───────────────┘\n",
       "</pre>\n"
      ],
      "text/plain": [
       "┏━━━━━━━━━━━━━━━━━━━━━━━━━━━━━━━━━┳━━━━━━━━━━━━━━━━━━━━━━━━┳━━━━━━━━━━━━━━━┓\n",
       "┃\u001b[1m \u001b[0m\u001b[1mLayer (type)                   \u001b[0m\u001b[1m \u001b[0m┃\u001b[1m \u001b[0m\u001b[1mOutput Shape          \u001b[0m\u001b[1m \u001b[0m┃\u001b[1m \u001b[0m\u001b[1m      Param #\u001b[0m\u001b[1m \u001b[0m┃\n",
       "┡━━━━━━━━━━━━━━━━━━━━━━━━━━━━━━━━━╇━━━━━━━━━━━━━━━━━━━━━━━━╇━━━━━━━━━━━━━━━┩\n",
       "│ embedding (\u001b[38;5;33mEmbedding\u001b[0m)           │ (\u001b[38;5;34m32\u001b[0m, \u001b[38;5;34m500\u001b[0m, \u001b[38;5;34m128\u001b[0m)         │     \u001b[38;5;34m1,280,000\u001b[0m │\n",
       "├─────────────────────────────────┼────────────────────────┼───────────────┤\n",
       "│ simple_rnn (\u001b[38;5;33mSimpleRNN\u001b[0m)          │ (\u001b[38;5;34m32\u001b[0m, \u001b[38;5;34m128\u001b[0m)              │        \u001b[38;5;34m32,896\u001b[0m │\n",
       "├─────────────────────────────────┼────────────────────────┼───────────────┤\n",
       "│ dense (\u001b[38;5;33mDense\u001b[0m)                   │ (\u001b[38;5;34m32\u001b[0m, \u001b[38;5;34m1\u001b[0m)                │           \u001b[38;5;34m129\u001b[0m │\n",
       "└─────────────────────────────────┴────────────────────────┴───────────────┘\n"
      ]
     },
     "metadata": {},
     "output_type": "display_data"
    },
    {
     "data": {
      "text/html": [
       "<pre style=\"white-space:pre;overflow-x:auto;line-height:normal;font-family:Menlo,'DejaVu Sans Mono',consolas,'Courier New',monospace\"><span style=\"font-weight: bold\"> Total params: </span><span style=\"color: #00af00; text-decoration-color: #00af00\">1,313,027</span> (5.01 MB)\n",
       "</pre>\n"
      ],
      "text/plain": [
       "\u001b[1m Total params: \u001b[0m\u001b[38;5;34m1,313,027\u001b[0m (5.01 MB)\n"
      ]
     },
     "metadata": {},
     "output_type": "display_data"
    },
    {
     "data": {
      "text/html": [
       "<pre style=\"white-space:pre;overflow-x:auto;line-height:normal;font-family:Menlo,'DejaVu Sans Mono',consolas,'Courier New',monospace\"><span style=\"font-weight: bold\"> Trainable params: </span><span style=\"color: #00af00; text-decoration-color: #00af00\">1,313,025</span> (5.01 MB)\n",
       "</pre>\n"
      ],
      "text/plain": [
       "\u001b[1m Trainable params: \u001b[0m\u001b[38;5;34m1,313,025\u001b[0m (5.01 MB)\n"
      ]
     },
     "metadata": {},
     "output_type": "display_data"
    },
    {
     "data": {
      "text/html": [
       "<pre style=\"white-space:pre;overflow-x:auto;line-height:normal;font-family:Menlo,'DejaVu Sans Mono',consolas,'Courier New',monospace\"><span style=\"font-weight: bold\"> Non-trainable params: </span><span style=\"color: #00af00; text-decoration-color: #00af00\">0</span> (0.00 B)\n",
       "</pre>\n"
      ],
      "text/plain": [
       "\u001b[1m Non-trainable params: \u001b[0m\u001b[38;5;34m0\u001b[0m (0.00 B)\n"
      ]
     },
     "metadata": {},
     "output_type": "display_data"
    },
    {
     "data": {
      "text/html": [
       "<pre style=\"white-space:pre;overflow-x:auto;line-height:normal;font-family:Menlo,'DejaVu Sans Mono',consolas,'Courier New',monospace\"><span style=\"font-weight: bold\"> Optimizer params: </span><span style=\"color: #00af00; text-decoration-color: #00af00\">2</span> (12.00 B)\n",
       "</pre>\n"
      ],
      "text/plain": [
       "\u001b[1m Optimizer params: \u001b[0m\u001b[38;5;34m2\u001b[0m (12.00 B)\n"
      ]
     },
     "metadata": {},
     "output_type": "display_data"
    },
    {
     "data": {
      "text/plain": [
       "[array([[ 0.01189016, -0.0127661 , -0.03783076, ...,  0.03389774,\n",
       "          0.0511068 , -0.00172885],\n",
       "        [-0.04023531, -0.06070692,  0.02439377, ...,  0.01072701,\n",
       "         -0.01184484,  0.01108966],\n",
       "        [-0.00822497, -0.00285659, -0.01104242, ..., -0.00388604,\n",
       "         -0.06189226, -0.0384181 ],\n",
       "        ...,\n",
       "        [ 0.00464689, -0.06633519, -0.00476953, ...,  0.00597377,\n",
       "          0.07915522,  0.00250346],\n",
       "        [-0.02439152, -0.04335858,  0.01025511, ...,  0.05172005,\n",
       "          0.01943071,  0.02753434],\n",
       "        [ 0.06304917,  0.083439  ,  0.06625685, ..., -0.1466023 ,\n",
       "         -0.07483823, -0.01413067]], dtype=float32),\n",
       " array([[ 0.04818861,  0.01562341,  0.04380932, ...,  0.08318089,\n",
       "          0.03704973,  0.02635652],\n",
       "        [ 0.06959689, -0.1055725 , -0.13020909, ..., -0.02133805,\n",
       "          0.12430253, -0.04022113],\n",
       "        [-0.09573625,  0.14197722,  0.13297881, ..., -0.10032932,\n",
       "         -0.0260056 , -0.15443751],\n",
       "        ...,\n",
       "        [-0.09282967,  0.08587552, -0.11030272, ...,  0.1300566 ,\n",
       "         -0.17965403,  0.09932329],\n",
       "        [-0.09614719, -0.08186061, -0.10696854, ...,  0.1600276 ,\n",
       "          0.01636476, -0.06847719],\n",
       "        [-0.09875811,  0.04721286, -0.05476981, ...,  0.00102113,\n",
       "         -0.11551544, -0.01785512]], dtype=float32),\n",
       " array([[ 0.0023536 ,  0.15197434, -0.10036413, ...,  0.050835  ,\n",
       "          0.19174251,  0.1808435 ],\n",
       "        [ 0.06997208, -0.04295146, -0.09084138, ...,  0.17822643,\n",
       "         -0.00425518, -0.11888172],\n",
       "        [-0.07128045,  0.05963789, -0.04354531, ..., -0.02899321,\n",
       "         -0.05461567, -0.00240322],\n",
       "        ...,\n",
       "        [ 0.02433587,  0.08344381, -0.01657825, ...,  0.04664086,\n",
       "          0.00063412,  0.02306345],\n",
       "        [ 0.05144861,  0.06008184,  0.08020081, ...,  0.00643924,\n",
       "         -0.10208488, -0.05186592],\n",
       "        [ 0.1487756 , -0.0028913 , -0.09051547, ..., -0.01264093,\n",
       "          0.00959555,  0.02117757]], dtype=float32),\n",
       " array([ 1.18637672e-02,  8.70369002e-03,  1.12846633e-02,  1.53246534e-03,\n",
       "         2.06993744e-02, -7.09831063e-03, -7.80682126e-03,  1.24540785e-02,\n",
       "        -1.86499325e-03,  2.22574603e-02,  1.38074812e-02,  1.29873781e-02,\n",
       "         1.04708003e-03,  2.76011461e-03, -1.33137619e-02,  2.97434221e-04,\n",
       "        -8.13758373e-03, -2.31405776e-02,  4.43999982e-03, -4.05797781e-03,\n",
       "        -3.86708812e-03, -5.90227870e-03,  1.72670428e-02,  1.81501769e-02,\n",
       "        -2.04351433e-02,  1.01188563e-01,  2.17519924e-02, -1.21638421e-02,\n",
       "        -1.28454231e-02, -3.65757872e-03,  7.21723633e-03, -1.54549945e-02,\n",
       "         1.72706717e-03,  1.12117268e-02,  4.51618480e-03,  1.64916199e-02,\n",
       "        -7.51439780e-02, -3.91939934e-03, -1.49423927e-02,  1.64359957e-02,\n",
       "        -1.54902916e-02, -2.46495791e-02, -8.91001243e-03,  2.71609752e-03,\n",
       "         2.96486299e-02, -1.42622283e-02,  1.58982649e-02,  2.78265751e-03,\n",
       "         1.10149020e-02,  8.70499760e-03,  1.06082540e-02, -9.01856087e-03,\n",
       "        -1.25003168e-02, -6.02767512e-04,  1.49685293e-02, -6.13841740e-03,\n",
       "        -4.12889803e-03, -8.38063005e-03, -3.11349845e-03, -7.26891216e-03,\n",
       "        -1.14518050e-02,  3.92773375e-03,  6.67752046e-03,  2.15328461e-03,\n",
       "         6.89465366e-03,  1.45656327e-02,  1.75436586e-02,  8.38132389e-03,\n",
       "        -4.81782574e-03, -2.20698901e-02, -5.58749260e-03,  2.09395140e-02,\n",
       "        -3.75925330e-03,  3.09369410e-04,  1.30676972e-02, -5.92487678e-03,\n",
       "        -7.14621181e-03, -6.71112863e-03, -1.82158463e-02, -5.10973623e-03,\n",
       "        -4.53957869e-03, -8.48218706e-03, -5.17801009e-03,  2.35607265e-03,\n",
       "        -1.73846036e-02, -1.04831730e-03,  1.53128821e-02, -9.44992062e-03,\n",
       "        -1.48978541e-02,  2.70180288e-03, -3.17300041e-03,  6.29838370e-03,\n",
       "         2.15232614e-02,  2.38916576e-02,  2.55061593e-03, -6.34281337e-03,\n",
       "        -7.59489043e-03,  1.14689544e-02,  1.28664915e-02,  1.81549191e-02,\n",
       "        -9.82215162e-03,  4.46180093e-05,  1.66370403e-02,  1.07390396e-02,\n",
       "         9.16938763e-03, -7.78388372e-03, -6.76643243e-03,  4.22806916e-04,\n",
       "        -1.58671737e-02,  2.14334615e-02, -7.43917841e-03,  6.65357802e-04,\n",
       "        -6.42078416e-03, -1.63534959e-03,  1.32819181e-02,  2.20743436e-02,\n",
       "         1.67041930e-04, -3.80079472e-03, -3.06419749e-03, -4.72469255e-03,\n",
       "        -1.55534735e-02,  1.69288442e-02, -4.82927402e-03,  1.50188040e-02,\n",
       "        -8.88720248e-03,  9.29435901e-03,  8.25370010e-03, -9.18119028e-03],\n",
       "       dtype=float32),\n",
       " array([[ 0.0236869 ],\n",
       "        [-0.04102813],\n",
       "        [-0.17334832],\n",
       "        [ 0.17108962],\n",
       "        [-0.09680142],\n",
       "        [ 0.04888919],\n",
       "        [ 0.09523071],\n",
       "        [ 0.12293171],\n",
       "        [ 0.00548655],\n",
       "        [-0.21781497],\n",
       "        [ 0.17081596],\n",
       "        [-0.42222938],\n",
       "        [-0.13987453],\n",
       "        [-0.21233161],\n",
       "        [-0.4400686 ],\n",
       "        [-0.06215919],\n",
       "        [ 0.0320874 ],\n",
       "        [-0.37192407],\n",
       "        [-0.00239047],\n",
       "        [-0.13050568],\n",
       "        [ 0.176392  ],\n",
       "        [-0.0358592 ],\n",
       "        [-0.03771169],\n",
       "        [ 0.15618433],\n",
       "        [-0.07426876],\n",
       "        [-0.35304952],\n",
       "        [ 0.17441373],\n",
       "        [ 0.08472498],\n",
       "        [-0.1863499 ],\n",
       "        [-0.08551411],\n",
       "        [-0.05921432],\n",
       "        [-0.05170596],\n",
       "        [-0.01262664],\n",
       "        [ 0.2111525 ],\n",
       "        [ 0.00438473],\n",
       "        [ 0.18716781],\n",
       "        [-0.29031998],\n",
       "        [ 0.01010669],\n",
       "        [-0.01177819],\n",
       "        [ 0.16399662],\n",
       "        [ 0.00229377],\n",
       "        [ 0.03503507],\n",
       "        [ 0.16112152],\n",
       "        [ 0.02123366],\n",
       "        [ 0.04484482],\n",
       "        [-0.18881363],\n",
       "        [-0.5138021 ],\n",
       "        [ 0.06383831],\n",
       "        [ 0.00058831],\n",
       "        [ 0.1681443 ],\n",
       "        [-0.04361399],\n",
       "        [-0.0205375 ],\n",
       "        [ 0.21542329],\n",
       "        [-0.19601338],\n",
       "        [ 0.06849479],\n",
       "        [ 0.1657305 ],\n",
       "        [-0.14766948],\n",
       "        [-0.12883224],\n",
       "        [-0.2004944 ],\n",
       "        [-0.13890994],\n",
       "        [ 0.17388037],\n",
       "        [-0.15213414],\n",
       "        [-0.09772324],\n",
       "        [-0.1720516 ],\n",
       "        [ 0.12952799],\n",
       "        [-0.08156866],\n",
       "        [-0.18585886],\n",
       "        [-0.09200987],\n",
       "        [-0.04747464],\n",
       "        [ 0.16384397],\n",
       "        [-0.55366504],\n",
       "        [ 0.12590055],\n",
       "        [-0.07258589],\n",
       "        [ 0.13582951],\n",
       "        [ 0.16475077],\n",
       "        [-0.37043464],\n",
       "        [-0.22050083],\n",
       "        [-0.2148512 ],\n",
       "        [ 0.02686684],\n",
       "        [-0.13811287],\n",
       "        [-0.0865275 ],\n",
       "        [-0.15206985],\n",
       "        [ 0.22178446],\n",
       "        [ 0.33781582],\n",
       "        [ 0.04895488],\n",
       "        [-0.04892419],\n",
       "        [ 0.08294118],\n",
       "        [-0.03386721],\n",
       "        [ 0.14286135],\n",
       "        [-0.14922135],\n",
       "        [ 0.14086293],\n",
       "        [-0.4914549 ],\n",
       "        [ 0.17550553],\n",
       "        [ 0.16251524],\n",
       "        [ 0.14998402],\n",
       "        [-0.35572612],\n",
       "        [ 0.15779947],\n",
       "        [ 0.16345307],\n",
       "        [ 0.17122853],\n",
       "        [ 0.00775606],\n",
       "        [ 0.10468114],\n",
       "        [-0.21138878],\n",
       "        [-0.10452383],\n",
       "        [ 0.22320957],\n",
       "        [ 0.1935099 ],\n",
       "        [-0.300392  ],\n",
       "        [-0.18290536],\n",
       "        [-0.09625731],\n",
       "        [-0.00231353],\n",
       "        [ 0.12465043],\n",
       "        [ 0.00817962],\n",
       "        [ 0.05406109],\n",
       "        [-0.0385012 ],\n",
       "        [-0.53282785],\n",
       "        [-0.18668468],\n",
       "        [ 0.02637115],\n",
       "        [-0.10793635],\n",
       "        [-0.14167383],\n",
       "        [-0.16364114],\n",
       "        [-0.14584339],\n",
       "        [-0.11377568],\n",
       "        [ 0.15018004],\n",
       "        [-0.04554267],\n",
       "        [-0.06918073],\n",
       "        [-0.16738078],\n",
       "        [-0.2000288 ],\n",
       "        [ 0.15811323],\n",
       "        [ 0.06305213]], dtype=float32),\n",
       " array([-0.27840808], dtype=float32)]"
      ]
     },
     "execution_count": 3,
     "metadata": {},
     "output_type": "execute_result"
    }
   ],
   "source": [
    "model = load_model('simple_rnn_imdb.h5')\n",
    "model.summary()\n",
    "model.get_weights()"
   ]
  },
  {
   "cell_type": "code",
   "execution_count": 4,
   "metadata": {},
   "outputs": [],
   "source": [
    "#helper function\n",
    "def decode_review(review):\n",
    "    return ' '.join([reversed_word_index.get(i - 3, '?') for i in review])\n",
    "\n",
    "def preprocess_text(text):\n",
    "    words = text.lower().split()\n",
    "    review = [word_index.get(word, 2) + 3 for word in words]\n",
    "    padded_review = sequence.pad_sequences([review], maxlen=500)\n",
    "    return padded_review"
   ]
  },
  {
   "cell_type": "code",
   "execution_count": 5,
   "metadata": {},
   "outputs": [],
   "source": [
    "#prediction function\n",
    "def predict_senti(review):\n",
    "    preprocessed_input=preprocess_text(review)\n",
    "    prediction=model.predict(preprocessed_input)\n",
    "\n",
    "    sentiment = 'Positive' if prediction[0][0] > 0.5 else 'Negative'\n",
    "\n",
    "    return sentiment, prediction[0][0]"
   ]
  },
  {
   "cell_type": "code",
   "execution_count": 6,
   "metadata": {},
   "outputs": [
    {
     "name": "stdout",
     "output_type": "stream",
     "text": [
      "\u001b[1m1/1\u001b[0m \u001b[32m━━━━━━━━━━━━━━━━━━━━\u001b[0m\u001b[37m\u001b[0m \u001b[1m1s\u001b[0m 919ms/step\n",
      "Review: This movie was fantastic! The acting was great and the plot was thrilling\n",
      "Sentiment: Positive\n",
      "Score: 0.9177838563919067\n"
     ]
    }
   ],
   "source": [
    "#example prediction\n",
    "example_review = \"This movie was fantastic! The acting was great and the plot was thrilling\"\n",
    "\n",
    "sentiment, score = predict_senti(example_review)\n",
    "\n",
    "print(f'Review: {example_review}')\n",
    "print(f'Sentiment: {sentiment}')\n",
    "print(f'Score: {score}')"
   ]
  }
 ],
 "metadata": {
  "kernelspec": {
   "display_name": "base",
   "language": "python",
   "name": "python3"
  },
  "language_info": {
   "codemirror_mode": {
    "name": "ipython",
    "version": 3
   },
   "file_extension": ".py",
   "mimetype": "text/x-python",
   "name": "python",
   "nbconvert_exporter": "python",
   "pygments_lexer": "ipython3",
   "version": "3.12.7"
  }
 },
 "nbformat": 4,
 "nbformat_minor": 2
}
